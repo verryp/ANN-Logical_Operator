{
  "nbformat": 4,
  "nbformat_minor": 0,
  "metadata": {
    "colab": {
      "name": "Perceptron and Logical Operator (NOT, AND, OR, XOR, NAND, XNOR).ipynb",
      "version": "0.3.2",
      "provenance": [],
      "include_colab_link": true
    },
    "kernelspec": {
      "name": "python3",
      "display_name": "Python 3"
    }
  },
  "cells": [
    {
      "cell_type": "markdown",
      "metadata": {
        "id": "view-in-github",
        "colab_type": "text"
      },
      "source": [
        "<a href=\"https://colab.research.google.com/github/verryp/ANN-Logical_Operator/blob/master/Perceptron_and_Logical_Operator_(NOT%2C_AND%2C_OR%2C_XOR%2C_NAND%2C_XNOR).ipynb\" target=\"_parent\"><img src=\"https://colab.research.google.com/assets/colab-badge.svg\" alt=\"Open In Colab\"/></a>"
      ]
    },
    {
      "cell_type": "code",
      "metadata": {
        "id": "zvIGK2jWIj_t",
        "colab_type": "code",
        "colab": {
          "base_uri": "https://localhost:8080/",
          "height": 51
        },
        "outputId": "2aa578d0-4fd5-4aa6-d9a1-4cc58da144f6"
      },
      "source": [
        "import numpy as np\n",
        "import pandas as pd\n",
        "\n",
        "def step_function(value):\n",
        "  if value >= 0:\n",
        "    return 1\n",
        "  else:\n",
        "    return 0\n",
        "  \n",
        "def perceptron(x, weight, bias):\n",
        "  v = np.dot(weight, x) + bias\n",
        "  y = step_function(v)\n",
        "  \n",
        "  return y\n",
        "\n",
        "def NOT_perceptron(x):\n",
        "  return perceptron(x, weight=-1, bias=0.5)\n",
        "\n",
        "print('NOT(1) = ', NOT_perceptron(1))\n",
        "print('NOT(0) = ', NOT_perceptron(0))"
      ],
      "execution_count": 41,
      "outputs": [
        {
          "output_type": "stream",
          "text": [
            "NOT(1) =  0\n",
            "NOT(0) =  1\n"
          ],
          "name": "stdout"
        }
      ]
    },
    {
      "cell_type": "code",
      "metadata": {
        "id": "kW_HRWgwNoPI",
        "colab_type": "code",
        "colab": {}
      },
      "source": [
        "\n",
        "input_binarylogics = np.array([[0, 0], [0, 1], [1, 0], [1, 1]])"
      ],
      "execution_count": 0,
      "outputs": []
    },
    {
      "cell_type": "code",
      "metadata": {
        "id": "IXFrPhvVLXOu",
        "colab_type": "code",
        "colab": {
          "base_uri": "https://localhost:8080/",
          "height": 173
        },
        "outputId": "b7666738-a74a-409c-ef2e-6378ef5328c1"
      },
      "source": [
        "# Logika Fungsi AND\n",
        "def AND_perceptron(x):\n",
        "  w = np.array([1,1])\n",
        "  b = -1.5\n",
        "  return perceptron(x, w, b)\n",
        "\n",
        "output_AND = []\n",
        "  \n",
        "  # lakukan loop untuk seluruh data yang ada dalam input_binarylogics\n",
        "for input in input_binarylogics:\n",
        "  result = AND_perceptron(input)\n",
        "  output_AND.append(result)\n",
        "        \n",
        "# tampilkan output\n",
        "output_binarylogics_AND = np.array(output_AND)\n",
        "\n",
        "AND_table = pd.DataFrame({'Input 1':input_binarylogics[:,0], \n",
        "                          'Input 2':input_binarylogics[:,1],\n",
        "                          'Output':output_binarylogics_AND})\n",
        "\n",
        "AND_table"
      ],
      "execution_count": 43,
      "outputs": [
        {
          "output_type": "execute_result",
          "data": {
            "text/html": [
              "<div>\n",
              "<style scoped>\n",
              "    .dataframe tbody tr th:only-of-type {\n",
              "        vertical-align: middle;\n",
              "    }\n",
              "\n",
              "    .dataframe tbody tr th {\n",
              "        vertical-align: top;\n",
              "    }\n",
              "\n",
              "    .dataframe thead th {\n",
              "        text-align: right;\n",
              "    }\n",
              "</style>\n",
              "<table border=\"1\" class=\"dataframe\">\n",
              "  <thead>\n",
              "    <tr style=\"text-align: right;\">\n",
              "      <th></th>\n",
              "      <th>Input 1</th>\n",
              "      <th>Input 2</th>\n",
              "      <th>Output</th>\n",
              "    </tr>\n",
              "  </thead>\n",
              "  <tbody>\n",
              "    <tr>\n",
              "      <th>0</th>\n",
              "      <td>0</td>\n",
              "      <td>0</td>\n",
              "      <td>0</td>\n",
              "    </tr>\n",
              "    <tr>\n",
              "      <th>1</th>\n",
              "      <td>0</td>\n",
              "      <td>1</td>\n",
              "      <td>0</td>\n",
              "    </tr>\n",
              "    <tr>\n",
              "      <th>2</th>\n",
              "      <td>1</td>\n",
              "      <td>0</td>\n",
              "      <td>0</td>\n",
              "    </tr>\n",
              "    <tr>\n",
              "      <th>3</th>\n",
              "      <td>1</td>\n",
              "      <td>1</td>\n",
              "      <td>1</td>\n",
              "    </tr>\n",
              "  </tbody>\n",
              "</table>\n",
              "</div>"
            ],
            "text/plain": [
              "   Input 1  Input 2  Output\n",
              "0        0        0       0\n",
              "1        0        1       0\n",
              "2        1        0       0\n",
              "3        1        1       1"
            ]
          },
          "metadata": {
            "tags": []
          },
          "execution_count": 43
        }
      ]
    },
    {
      "cell_type": "code",
      "metadata": {
        "id": "-DwNfa2_NJOc",
        "colab_type": "code",
        "colab": {
          "base_uri": "https://localhost:8080/",
          "height": 173
        },
        "outputId": "cfb4414c-7ca5-4908-8512-1bd533a84c5f"
      },
      "source": [
        "# Logika fungsi OR\n",
        "def OR_perceptron(x):\n",
        "  w = np.array([1,1])\n",
        "  b = -0.5\n",
        "  return perceptron(x, w, b)\n",
        "\n",
        "output_OR = []\n",
        "  \n",
        "  # lakukan loop untuk seluruh data yang ada dalam input_binarylogics\n",
        "for input in input_binarylogics:\n",
        "  result = OR_perceptron(input)\n",
        "  output_OR.append(result)\n",
        "        \n",
        "# tampilkan output\n",
        "output_binarylogics_OR = np.array(output_OR)\n",
        "\n",
        "OR_table = pd.DataFrame({'Input 1':input_binarylogics[:,0], \n",
        "                          'Input 2':input_binarylogics[:,1],\n",
        "                          'Output':output_binarylogics_OR})\n",
        "\n",
        "OR_table"
      ],
      "execution_count": 44,
      "outputs": [
        {
          "output_type": "execute_result",
          "data": {
            "text/html": [
              "<div>\n",
              "<style scoped>\n",
              "    .dataframe tbody tr th:only-of-type {\n",
              "        vertical-align: middle;\n",
              "    }\n",
              "\n",
              "    .dataframe tbody tr th {\n",
              "        vertical-align: top;\n",
              "    }\n",
              "\n",
              "    .dataframe thead th {\n",
              "        text-align: right;\n",
              "    }\n",
              "</style>\n",
              "<table border=\"1\" class=\"dataframe\">\n",
              "  <thead>\n",
              "    <tr style=\"text-align: right;\">\n",
              "      <th></th>\n",
              "      <th>Input 1</th>\n",
              "      <th>Input 2</th>\n",
              "      <th>Output</th>\n",
              "    </tr>\n",
              "  </thead>\n",
              "  <tbody>\n",
              "    <tr>\n",
              "      <th>0</th>\n",
              "      <td>0</td>\n",
              "      <td>0</td>\n",
              "      <td>0</td>\n",
              "    </tr>\n",
              "    <tr>\n",
              "      <th>1</th>\n",
              "      <td>0</td>\n",
              "      <td>1</td>\n",
              "      <td>1</td>\n",
              "    </tr>\n",
              "    <tr>\n",
              "      <th>2</th>\n",
              "      <td>1</td>\n",
              "      <td>0</td>\n",
              "      <td>1</td>\n",
              "    </tr>\n",
              "    <tr>\n",
              "      <th>3</th>\n",
              "      <td>1</td>\n",
              "      <td>1</td>\n",
              "      <td>1</td>\n",
              "    </tr>\n",
              "  </tbody>\n",
              "</table>\n",
              "</div>"
            ],
            "text/plain": [
              "   Input 1  Input 2  Output\n",
              "0        0        0       0\n",
              "1        0        1       1\n",
              "2        1        0       1\n",
              "3        1        1       1"
            ]
          },
          "metadata": {
            "tags": []
          },
          "execution_count": 44
        }
      ]
    },
    {
      "cell_type": "code",
      "metadata": {
        "id": "jLlhv6w2Oi2I",
        "colab_type": "code",
        "colab": {
          "base_uri": "https://localhost:8080/",
          "height": 173
        },
        "outputId": "dc227347-ad39-4786-a409-7128e6794eb4"
      },
      "source": [
        "# Logika fungsi XOR\n",
        "\n",
        "\n",
        "def XOR_perceptron(x):\n",
        "    gate_1 = AND_perceptron(x)\n",
        "    gate_2 = NOT_perceptron(gate_1)\n",
        "    gate_3 = OR_perceptron(x)\n",
        "    new_x = np.array([gate_2, gate_3])\n",
        "    output = AND_perceptron(new_x)\n",
        "    \n",
        "    return output\n",
        "  \n",
        "output_XOR = []\n",
        "  \n",
        "  # lakukan loop untuk seluruh data yang ada dalam input_binarylogics\n",
        "for input in input_binarylogics:\n",
        "  result = XOR_perceptron(input)\n",
        "  output_XOR.append(result)\n",
        "        \n",
        "# tampilkan output\n",
        "output_binarylogics_XOR = np.array(output_XOR)\n",
        "\n",
        "XOR_table = pd.DataFrame({'Input 1':input_binarylogics[:,0], \n",
        "                          'Input 2':input_binarylogics[:,1],\n",
        "                          'Output':output_binarylogics_XOR})\n",
        "\n",
        "XOR_table"
      ],
      "execution_count": 45,
      "outputs": [
        {
          "output_type": "execute_result",
          "data": {
            "text/html": [
              "<div>\n",
              "<style scoped>\n",
              "    .dataframe tbody tr th:only-of-type {\n",
              "        vertical-align: middle;\n",
              "    }\n",
              "\n",
              "    .dataframe tbody tr th {\n",
              "        vertical-align: top;\n",
              "    }\n",
              "\n",
              "    .dataframe thead th {\n",
              "        text-align: right;\n",
              "    }\n",
              "</style>\n",
              "<table border=\"1\" class=\"dataframe\">\n",
              "  <thead>\n",
              "    <tr style=\"text-align: right;\">\n",
              "      <th></th>\n",
              "      <th>Input 1</th>\n",
              "      <th>Input 2</th>\n",
              "      <th>Output</th>\n",
              "    </tr>\n",
              "  </thead>\n",
              "  <tbody>\n",
              "    <tr>\n",
              "      <th>0</th>\n",
              "      <td>0</td>\n",
              "      <td>0</td>\n",
              "      <td>0</td>\n",
              "    </tr>\n",
              "    <tr>\n",
              "      <th>1</th>\n",
              "      <td>0</td>\n",
              "      <td>1</td>\n",
              "      <td>1</td>\n",
              "    </tr>\n",
              "    <tr>\n",
              "      <th>2</th>\n",
              "      <td>1</td>\n",
              "      <td>0</td>\n",
              "      <td>1</td>\n",
              "    </tr>\n",
              "    <tr>\n",
              "      <th>3</th>\n",
              "      <td>1</td>\n",
              "      <td>1</td>\n",
              "      <td>0</td>\n",
              "    </tr>\n",
              "  </tbody>\n",
              "</table>\n",
              "</div>"
            ],
            "text/plain": [
              "   Input 1  Input 2  Output\n",
              "0        0        0       0\n",
              "1        0        1       1\n",
              "2        1        0       1\n",
              "3        1        1       0"
            ]
          },
          "metadata": {
            "tags": []
          },
          "execution_count": 45
        }
      ]
    },
    {
      "cell_type": "code",
      "metadata": {
        "id": "riMnHajlPgvX",
        "colab_type": "code",
        "colab": {
          "base_uri": "https://localhost:8080/",
          "height": 173
        },
        "outputId": "6dde7596-4dbf-420e-e141-00f3c35b495f"
      },
      "source": [
        "# Logika fungsi NAND\n",
        "\n",
        "\n",
        "def NAND_perceptron(x):\n",
        "  gate_1 = AND_perceptron(x)\n",
        "  output = NOT_perceptron(gate_1)\n",
        "  \n",
        "  return output\n",
        "  \n",
        "output_NAND = []\n",
        "  \n",
        "  # lakukan loop untuk seluruh data yang ada dalam input_binarylogics\n",
        "for input in input_binarylogics:\n",
        "  result = NAND_perceptron(input)\n",
        "  output_NAND.append(result)\n",
        "        \n",
        "# tampilkan output\n",
        "output_binarylogics_NAND = np.array(output_NAND)\n",
        "\n",
        "NAND_table = pd.DataFrame({'Input 1':input_binarylogics[:,0], \n",
        "                          'Input 2':input_binarylogics[:,1],\n",
        "                          'Output':output_binarylogics_NAND})\n",
        "\n",
        "NAND_table"
      ],
      "execution_count": 46,
      "outputs": [
        {
          "output_type": "execute_result",
          "data": {
            "text/html": [
              "<div>\n",
              "<style scoped>\n",
              "    .dataframe tbody tr th:only-of-type {\n",
              "        vertical-align: middle;\n",
              "    }\n",
              "\n",
              "    .dataframe tbody tr th {\n",
              "        vertical-align: top;\n",
              "    }\n",
              "\n",
              "    .dataframe thead th {\n",
              "        text-align: right;\n",
              "    }\n",
              "</style>\n",
              "<table border=\"1\" class=\"dataframe\">\n",
              "  <thead>\n",
              "    <tr style=\"text-align: right;\">\n",
              "      <th></th>\n",
              "      <th>Input 1</th>\n",
              "      <th>Input 2</th>\n",
              "      <th>Output</th>\n",
              "    </tr>\n",
              "  </thead>\n",
              "  <tbody>\n",
              "    <tr>\n",
              "      <th>0</th>\n",
              "      <td>0</td>\n",
              "      <td>0</td>\n",
              "      <td>1</td>\n",
              "    </tr>\n",
              "    <tr>\n",
              "      <th>1</th>\n",
              "      <td>0</td>\n",
              "      <td>1</td>\n",
              "      <td>1</td>\n",
              "    </tr>\n",
              "    <tr>\n",
              "      <th>2</th>\n",
              "      <td>1</td>\n",
              "      <td>0</td>\n",
              "      <td>1</td>\n",
              "    </tr>\n",
              "    <tr>\n",
              "      <th>3</th>\n",
              "      <td>1</td>\n",
              "      <td>1</td>\n",
              "      <td>0</td>\n",
              "    </tr>\n",
              "  </tbody>\n",
              "</table>\n",
              "</div>"
            ],
            "text/plain": [
              "   Input 1  Input 2  Output\n",
              "0        0        0       1\n",
              "1        0        1       1\n",
              "2        1        0       1\n",
              "3        1        1       0"
            ]
          },
          "metadata": {
            "tags": []
          },
          "execution_count": 46
        }
      ]
    },
    {
      "cell_type": "code",
      "metadata": {
        "id": "cxnXMCguSKO8",
        "colab_type": "code",
        "colab": {
          "base_uri": "https://localhost:8080/",
          "height": 173
        },
        "outputId": "f4364acf-6c9f-41e6-ec2a-48d31a22a54b"
      },
      "source": [
        "# Logika fungsi XNOR\n",
        "\n",
        "\n",
        "def XNOR_perceptron(x):\n",
        "  gate_1 = XOR_perceptron(x)\n",
        "  output = NOT_perceptron(gate_1)\n",
        "  \n",
        "  return output\n",
        "  \n",
        "output_XNOR = []\n",
        "  \n",
        "  # lakukan loop untuk seluruh data yang ada dalam input_binarylogics\n",
        "for input in input_binarylogics:\n",
        "  result = XNOR_perceptron(input)\n",
        "  output_XNOR.append(result)\n",
        "        \n",
        "# tampilkan output\n",
        "output_binarylogics_XNOR = np.array(output_XNOR)\n",
        "\n",
        "XNOR_table = pd.DataFrame({'Input 1':input_binarylogics[:,0], \n",
        "                          'Input 2':input_binarylogics[:,1],\n",
        "                          'Output':output_binarylogics_XNOR})\n",
        "\n",
        "XNOR_table"
      ],
      "execution_count": 47,
      "outputs": [
        {
          "output_type": "execute_result",
          "data": {
            "text/html": [
              "<div>\n",
              "<style scoped>\n",
              "    .dataframe tbody tr th:only-of-type {\n",
              "        vertical-align: middle;\n",
              "    }\n",
              "\n",
              "    .dataframe tbody tr th {\n",
              "        vertical-align: top;\n",
              "    }\n",
              "\n",
              "    .dataframe thead th {\n",
              "        text-align: right;\n",
              "    }\n",
              "</style>\n",
              "<table border=\"1\" class=\"dataframe\">\n",
              "  <thead>\n",
              "    <tr style=\"text-align: right;\">\n",
              "      <th></th>\n",
              "      <th>Input 1</th>\n",
              "      <th>Input 2</th>\n",
              "      <th>Output</th>\n",
              "    </tr>\n",
              "  </thead>\n",
              "  <tbody>\n",
              "    <tr>\n",
              "      <th>0</th>\n",
              "      <td>0</td>\n",
              "      <td>0</td>\n",
              "      <td>1</td>\n",
              "    </tr>\n",
              "    <tr>\n",
              "      <th>1</th>\n",
              "      <td>0</td>\n",
              "      <td>1</td>\n",
              "      <td>0</td>\n",
              "    </tr>\n",
              "    <tr>\n",
              "      <th>2</th>\n",
              "      <td>1</td>\n",
              "      <td>0</td>\n",
              "      <td>0</td>\n",
              "    </tr>\n",
              "    <tr>\n",
              "      <th>3</th>\n",
              "      <td>1</td>\n",
              "      <td>1</td>\n",
              "      <td>1</td>\n",
              "    </tr>\n",
              "  </tbody>\n",
              "</table>\n",
              "</div>"
            ],
            "text/plain": [
              "   Input 1  Input 2  Output\n",
              "0        0        0       1\n",
              "1        0        1       0\n",
              "2        1        0       0\n",
              "3        1        1       1"
            ]
          },
          "metadata": {
            "tags": []
          },
          "execution_count": 47
        }
      ]
    },
    {
      "cell_type": "code",
      "metadata": {
        "id": "1VxJ0w-nTUt4",
        "colab_type": "code",
        "colab": {}
      },
      "source": [
        ""
      ],
      "execution_count": 0,
      "outputs": []
    }
  ]
}